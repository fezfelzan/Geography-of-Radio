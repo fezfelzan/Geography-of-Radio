{
 "cells": [
  {
   "cell_type": "code",
   "execution_count": 1,
   "metadata": {},
   "outputs": [],
   "source": [
    "import arcpy\n",
    "import os"
   ]
  },
  {
   "cell_type": "code",
   "execution_count": 2,
   "metadata": {},
   "outputs": [],
   "source": [
    "arcpro_folder = r'C:\\Users\\michaelfelzan\\Documents\\WindowsRadioGarden\\GEOFM_ARC'"
   ]
  },
  {
   "cell_type": "code",
   "execution_count": 25,
   "metadata": {},
   "outputs": [],
   "source": [
    "arcpy.env.workspace = arcpro_folder"
   ]
  },
  {
   "cell_type": "code",
   "execution_count": 4,
   "metadata": {},
   "outputs": [],
   "source": [
    "wgs84_GCS = \"GEOGCS['GCS_WGS_1984',DATUM['D_WGS_1984',SPHEROID['WGS_1984',6378137.0,298.257223563]],PRIMEM['Greenwich',0.0],UNIT['Degree',0.0174532925199433]];-400 -400 1000000000;-100000 10000;-100000 10000;8.98315284119521E-09;0.001;0.001;IsHighPrecision\""
   ]
  },
  {
   "cell_type": "code",
   "execution_count": 6,
   "metadata": {},
   "outputs": [
    {
     "data": {
      "text/html": [
       "<h2>Output</h2>C:\\Users\\michaelfelzan\\Documents\\WindowsRadioGarden\\GEOFM_ARC\\wash_radio_stations.shp<h2>Messages</h2>Start Time: Monday, October 25, 2021 6:47:44 PM<br/>Succeeded at Monday, October 25, 2021 6:47:45 PM (Elapsed Time: 0.60 seconds)<br/><style>.rendered_html td, .rendered_html th {text-align: left;}.rendered_html tbody {border: 1px solid black;}</style>"
      ],
      "text/plain": [
       "<Result 'C:\\\\Users\\\\michaelfelzan\\\\Documents\\\\WindowsRadioGarden\\\\GEOFM_ARC\\\\wash_radio_stations.shp'>"
      ]
     },
     "execution_count": 6,
     "metadata": {},
     "output_type": "execute_result"
    }
   ],
   "source": [
    "infoconcat = os.path.join(arcpro_folder, \"WASHSTATIONINFOconcat.csv\")\n",
    "\n",
    "arcpy.management.XYTableToPoint(infoconcat,\n",
    "                                \"wash_radio_stations\",\n",
    "                                \"LONG\",\n",
    "                                \"LAT\", \n",
    "                                None,\n",
    "                                wgs84_GCS)"
   ]
  },
  {
   "cell_type": "code",
   "execution_count": 26,
   "metadata": {},
   "outputs": [
    {
     "data": {
      "text/plain": [
       "['8990_RG',\n",
       " 'cb_2018_us_state_500k.cpg',\n",
       " 'cb_2018_us_state_500k.dbf',\n",
       " 'cb_2018_us_state_500k.prj',\n",
       " 'cb_2018_us_state_500k.sbn',\n",
       " 'cb_2018_us_state_500k.sbx',\n",
       " 'cb_2018_us_state_500k.shp',\n",
       " 'cb_2018_us_state_500k.shp.ea.iso.xml',\n",
       " 'cb_2018_us_state_500k.shp.iso.xml',\n",
       " 'cb_2018_us_state_500k.shx',\n",
       " 'CONCAT_TRACKLOG_2021_11_03.csv',\n",
       " 'copied_washshp.cpg',\n",
       " 'copied_washshp.dbf',\n",
       " 'copied_washshp.prj',\n",
       " 'copied_washshp.sbn',\n",
       " 'copied_washshp.sbx',\n",
       " 'copied_washshp.shp',\n",
       " 'copied_washshp.shp.xml',\n",
       " 'copied_washshp.shx',\n",
       " 'WASHSTATIONINFOconcat.csv',\n",
       " 'wash_radio_stations.cpg',\n",
       " 'wash_radio_stations.dbf',\n",
       " 'wash_radio_stations.prj',\n",
       " 'wash_radio_stations.sbn',\n",
       " 'wash_radio_stations.sbx',\n",
       " 'wash_radio_stations.shp',\n",
       " 'wash_radio_stations.shp.xml',\n",
       " 'wash_radio_stations.shx',\n",
       " 'world_countries_2020.CPG',\n",
       " 'world_countries_2020.dbf',\n",
       " 'world_countries_2020.prj',\n",
       " 'world_countries_2020.sbn',\n",
       " 'world_countries_2020.sbx',\n",
       " 'world_countries_2020.shp',\n",
       " 'world_countries_2020.shp.xml',\n",
       " 'world_countries_2020.shx']"
      ]
     },
     "execution_count": 26,
     "metadata": {},
     "output_type": "execute_result"
    }
   ],
   "source": [
    "arcpy.ListFiles()"
   ]
  },
  {
   "cell_type": "code",
   "execution_count": 27,
   "metadata": {},
   "outputs": [
    {
     "name": "stdout",
     "output_type": "stream",
     "text": [
      "['cb_2018_us_state_500k.shp', 'copied_washshp.shp', 'wash_radio_stations.shp', 'world_countries_2020.shp']\n"
     ]
    }
   ],
   "source": [
    "print(arcpy.ListFeatureClasses())"
   ]
  },
  {
   "cell_type": "code",
   "execution_count": 28,
   "metadata": {},
   "outputs": [
    {
     "name": "stdout",
     "output_type": "stream",
     "text": [
      "['CONCAT_TRACKLOG_2021_11_03.csv', 'WASHSTATIONINFOconcat.csv']\n"
     ]
    }
   ],
   "source": [
    "print(arcpy.ListTables())"
   ]
  },
  {
   "cell_type": "code",
   "execution_count": 10,
   "metadata": {},
   "outputs": [
    {
     "data": {
      "text/plain": [
       "'C:\\\\Users\\\\michaelfelzan\\\\Documents\\\\WindowsRadioGarden\\\\GEOFM_ARC'"
      ]
     },
     "execution_count": 10,
     "metadata": {},
     "output_type": "execute_result"
    }
   ],
   "source": [
    "arcpro_folder"
   ]
  },
  {
   "cell_type": "code",
   "execution_count": 11,
   "metadata": {},
   "outputs": [
    {
     "data": {
      "text/plain": [
       "'C:\\\\Users\\\\michaelfelzan\\\\Documents\\\\WindowsRadioGarden\\\\GEOFM_ARC\\\\wash_radio_stations.shp'"
      ]
     },
     "execution_count": 11,
     "metadata": {},
     "output_type": "execute_result"
    }
   ],
   "source": [
    "path_to_washshp = os.path.join(arcpro_folder, 'wash_radio_stations.shp')\n",
    "path_to_washshp"
   ]
  },
  {
   "cell_type": "code",
   "execution_count": 16,
   "metadata": {},
   "outputs": [
    {
     "data": {
      "text/plain": [
       "'C:\\\\Users\\\\michaelfelzan\\\\Documents\\\\WindowsRadioGarden\\\\GEOFM_ARC\\\\copied_washshp.shp'"
      ]
     },
     "execution_count": 16,
     "metadata": {},
     "output_type": "execute_result"
    }
   ],
   "source": [
    "copied_washshp_path = os.path.join(arcpro_folder, 'copied_washshp.shp')\n",
    "copied_washshp_path"
   ]
  },
  {
   "cell_type": "code",
   "execution_count": 14,
   "metadata": {},
   "outputs": [
    {
     "data": {
      "text/html": [
       "<h2>Output</h2>C:\\Users\\michaelfelzan\\Documents\\WindowsRadioGarden\\GEOFM_ARC\\copied_washshp.shp<h2>Messages</h2>Start Time: Thursday, November 11, 2021 12:06:00 PM<br/>Succeeded at Thursday, November 11, 2021 12:06:00 PM (Elapsed Time: 0.13 seconds)<br/><style>.rendered_html td, .rendered_html th {text-align: left;}.rendered_html tbody {border: 1px solid black;}</style>"
      ],
      "text/plain": [
       "<Result 'C:\\\\Users\\\\michaelfelzan\\\\Documents\\\\WindowsRadioGarden\\\\GEOFM_ARC\\\\copied_washshp.shp'>"
      ]
     },
     "execution_count": 14,
     "metadata": {},
     "output_type": "execute_result"
    }
   ],
   "source": [
    "arcpy.CopyFeatures_management(path_to_washshp,\n",
    "                              copied_washshp_path)\n",
    "# first arg is the feature you want to copy, second arg is the output path/name"
   ]
  },
  {
   "cell_type": "code",
   "execution_count": 15,
   "metadata": {},
   "outputs": [
    {
     "name": "stdout",
     "output_type": "stream",
     "text": [
      "['cb_2018_us_state_500k.shp', 'copied_washshp.shp', 'wash_radio_stations.shp', 'world_countries_2020.shp']\n"
     ]
    }
   ],
   "source": [
    "print(arcpy.ListFeatureClasses())"
   ]
  },
  {
   "cell_type": "code",
   "execution_count": 29,
   "metadata": {},
   "outputs": [
    {
     "name": "stdout",
     "output_type": "stream",
     "text": [
      "['CONCAT_TRACKLOG_2021_11_03.csv', 'WASHSTATIONINFOconcat.csv']\n"
     ]
    }
   ],
   "source": [
    "print(arcpy.ListTables())"
   ]
  },
  {
   "cell_type": "code",
   "execution_count": 24,
   "metadata": {},
   "outputs": [
    {
     "name": "stdout",
     "output_type": "stream",
     "text": [
      "FID is a type of OID with a length of 4\n",
      "Shape is a type of Geometry with a length of 0\n",
      "CALLSIGN is a type of String with a length of 254\n",
      "LAT is a type of Double with a length of 19\n",
      "LONG is a type of Double with a length of 19\n",
      "ERP is a type of Double with a length of 19\n",
      "HAAT is a type of Double with a length of 19\n",
      "F60dBu_DIS is a type of Double with a length of 19\n",
      "RAD_UNITS is a type of String with a length of 254\n"
     ]
    }
   ],
   "source": [
    "washfields = arcpy.ListFields('wash_radio_stations.shp')\n",
    "for field in washfields:\n",
    "    print(\"{0} is a type of {1} with a length of {2}\".format(field.name, field.type, field.length))"
   ]
  },
  {
   "cell_type": "code",
   "execution_count": 31,
   "metadata": {},
   "outputs": [
    {
     "name": "stdout",
     "output_type": "stream",
     "text": [
      "stateabrev is a type of String with a length of 8000\n",
      "radiocallsgn is a type of String with a length of 8000\n",
      "trackname is a type of String with a length of 8000\n",
      "trackartist is a type of String with a length of 8000\n",
      "trackalbum is a type of String with a length of 8000\n",
      "trackstyles is a type of String with a length of 8000\n",
      "trackmp3filename is a type of String with a length of 8000\n",
      "captureyear is a type of Integer with a length of 4\n",
      "capturemonth is a type of Integer with a length of 4\n",
      "captureday is a type of Integer with a length of 4\n",
      "capturehour is a type of Integer with a length of 4\n",
      "captureminute is a type of Integer with a length of 4\n",
      "capturesecond is a type of Integer with a length of 4\n"
     ]
    }
   ],
   "source": [
    "songcsvfields = arcpy.ListFields('CONCAT_TRACKLOG_2021_11_03.csv')\n",
    "for field in songcsvfields:\n",
    "    print(\"{0} is a type of {1} with a length of {2}\".format(field.name, field.type, field.length))"
   ]
  },
  {
   "cell_type": "code",
   "execution_count": 19,
   "metadata": {},
   "outputs": [
    {
     "data": {
      "text/html": [
       "<h2>Output</h2>C:\\Users\\michaelfelzan\\Documents\\WindowsRadioGarden\\GEOFM_ARC\\copied_washshp.shp<h2>Messages</h2>Start Time: Thursday, November 11, 2021 12:11:26 PM<br/>Adding Num_Elec to copied_washshp...<br/>Succeeded at Thursday, November 11, 2021 12:11:26 PM (Elapsed Time: 0.04 seconds)<br/><style>.rendered_html td, .rendered_html th {text-align: left;}.rendered_html tbody {border: 1px solid black;}</style>"
      ],
      "text/plain": [
       "<Result 'C:\\\\Users\\\\michaelfelzan\\\\Documents\\\\WindowsRadioGarden\\\\GEOFM_ARC\\\\copied_washshp.shp'>"
      ]
     },
     "execution_count": 19,
     "metadata": {},
     "output_type": "execute_result"
    }
   ],
   "source": [
    " arcpy.AddField_management(copied_washshp_path, \"Num_Elec\", \"LONG\")"
   ]
  },
  {
   "cell_type": "code",
   "execution_count": 20,
   "metadata": {},
   "outputs": [
    {
     "data": {
      "text/html": [
       "<h2>Output</h2>C:\\Users\\michaelfelzan\\Documents\\WindowsRadioGarden\\GEOFM_ARC\\copied_washshp.shp<h2>Messages</h2>Start Time: Thursday, November 11, 2021 12:12:07 PM<br/>Adding NumTotSngs to copied_washshp...<br/>Succeeded at Thursday, November 11, 2021 12:12:07 PM (Elapsed Time: 0.04 seconds)<br/><style>.rendered_html td, .rendered_html th {text-align: left;}.rendered_html tbody {border: 1px solid black;}</style>"
      ],
      "text/plain": [
       "<Result 'C:\\\\Users\\\\michaelfelzan\\\\Documents\\\\WindowsRadioGarden\\\\GEOFM_ARC\\\\copied_washshp.shp'>"
      ]
     },
     "execution_count": 20,
     "metadata": {},
     "output_type": "execute_result"
    }
   ],
   "source": [
    " arcpy.AddField_management(copied_washshp_path, \"NumTotSngs\", \"LONG\")"
   ]
  },
  {
   "cell_type": "code",
   "execution_count": 33,
   "metadata": {},
   "outputs": [],
   "source": [
    "def buildWhereClauseFromList(linkTable, linkKeyField, valueList):\n",
    "    fieldDelimited = arcpy.AddFieldDelimiters(arcpy.Describe(linkTable).path, linkKeyField)\n",
    "    arcpy.AddMessage(\"fieldDelimited value: {}\".format(fieldDelimited))\n",
    "    fieldType = arcpy.ListFields(linkTable, linkKeyField)[0].type\n",
    "    if str(fieldType) == 'String':\n",
    "        valueList = [\"'%s'\" % value for value in valueList]\n",
    "    whereClause = \"%s IN(%s)\" % (fieldDelimited, ', '.join(map(str, valueList)))\n",
    "    return whereClause\n",
    "\n",
    "    arcpy.AddMessage(\"whereClause: {}\".format(whereClause))"
   ]
  },
  {
   "cell_type": "code",
   "execution_count": 34,
   "metadata": {},
   "outputs": [],
   "source": [
    "def selectRelatedRecords(sourceLayer, targetLayer, sourceField, targetField):\n",
    "    sourceIDs = set([row[0] for row in arcpy.da.SearchCursor(sourceLayer, sourceField)])\n",
    "    whereClause = buildWhereClauseFromList(targetLayer, targetField, sourceIDs)\n",
    "    arcpy.AddMessage(\"Selecting related records using WhereClause: {0}\".format(whereClause))\n",
    "    arcpy.SelectLayerByAttribute_management(targetLayer, \"NEW_SELECTION\", whereClause)"
   ]
  },
  {
   "cell_type": "code",
   "execution_count": 35,
   "metadata": {},
   "outputs": [
    {
     "ename": "ExecuteError",
     "evalue": "ERROR 000339: Input CONCAT_TRACKLOG_2021_11_03_V2 does not have OIDs\nFailed to execute (SelectLayerByAttribute).\n",
     "output_type": "error",
     "traceback": [
      "\u001b[1;31m---------------------------------------------------------------------------\u001b[0m",
      "\u001b[1;31mExecuteError\u001b[0m                              Traceback (most recent call last)",
      "\u001b[1;32m<ipython-input-35-ce891f5e81bd>\u001b[0m in \u001b[0;36m<module>\u001b[1;34m\u001b[0m\n\u001b[0;32m      2\u001b[0m                      \u001b[1;34m'CONCAT_TRACKLOG_2021_11_03.csv'\u001b[0m\u001b[1;33m,\u001b[0m\u001b[1;33m\u001b[0m\u001b[1;33m\u001b[0m\u001b[0m\n\u001b[0;32m      3\u001b[0m                      \u001b[1;34m\"CALLSIGN\"\u001b[0m\u001b[1;33m,\u001b[0m\u001b[1;33m\u001b[0m\u001b[1;33m\u001b[0m\u001b[0m\n\u001b[1;32m----> 4\u001b[1;33m                      \"radiocallsgn\")\n\u001b[0m",
      "\u001b[1;32m<ipython-input-34-e5ecaba4d360>\u001b[0m in \u001b[0;36mselectRelatedRecords\u001b[1;34m(sourceLayer, targetLayer, sourceField, targetField)\u001b[0m\n\u001b[0;32m      3\u001b[0m     \u001b[0mwhereClause\u001b[0m \u001b[1;33m=\u001b[0m \u001b[0mbuildWhereClauseFromList\u001b[0m\u001b[1;33m(\u001b[0m\u001b[0mtargetLayer\u001b[0m\u001b[1;33m,\u001b[0m \u001b[0mtargetField\u001b[0m\u001b[1;33m,\u001b[0m \u001b[0msourceIDs\u001b[0m\u001b[1;33m)\u001b[0m\u001b[1;33m\u001b[0m\u001b[1;33m\u001b[0m\u001b[0m\n\u001b[0;32m      4\u001b[0m     \u001b[0marcpy\u001b[0m\u001b[1;33m.\u001b[0m\u001b[0mAddMessage\u001b[0m\u001b[1;33m(\u001b[0m\u001b[1;34m\"Selecting related records using WhereClause: {0}\"\u001b[0m\u001b[1;33m.\u001b[0m\u001b[0mformat\u001b[0m\u001b[1;33m(\u001b[0m\u001b[0mwhereClause\u001b[0m\u001b[1;33m)\u001b[0m\u001b[1;33m)\u001b[0m\u001b[1;33m\u001b[0m\u001b[1;33m\u001b[0m\u001b[0m\n\u001b[1;32m----> 5\u001b[1;33m     \u001b[0marcpy\u001b[0m\u001b[1;33m.\u001b[0m\u001b[0mSelectLayerByAttribute_management\u001b[0m\u001b[1;33m(\u001b[0m\u001b[0mtargetLayer\u001b[0m\u001b[1;33m,\u001b[0m \u001b[1;34m\"NEW_SELECTION\"\u001b[0m\u001b[1;33m,\u001b[0m \u001b[0mwhereClause\u001b[0m\u001b[1;33m)\u001b[0m\u001b[1;33m\u001b[0m\u001b[1;33m\u001b[0m\u001b[0m\n\u001b[0m",
      "\u001b[1;32mC:\\Program Files\\ArcGIS\\Pro\\Resources\\ArcPy\\arcpy\\management.py\u001b[0m in \u001b[0;36mSelectLayerByAttribute\u001b[1;34m(in_layer_or_view, selection_type, where_clause, invert_where_clause)\u001b[0m\n\u001b[0;32m   8752\u001b[0m         \u001b[1;32mreturn\u001b[0m \u001b[0mretval\u001b[0m\u001b[1;33m\u001b[0m\u001b[1;33m\u001b[0m\u001b[0m\n\u001b[0;32m   8753\u001b[0m     \u001b[1;32mexcept\u001b[0m \u001b[0mException\u001b[0m \u001b[1;32mas\u001b[0m \u001b[0me\u001b[0m\u001b[1;33m:\u001b[0m\u001b[1;33m\u001b[0m\u001b[1;33m\u001b[0m\u001b[0m\n\u001b[1;32m-> 8754\u001b[1;33m         \u001b[1;32mraise\u001b[0m \u001b[0me\u001b[0m\u001b[1;33m\u001b[0m\u001b[1;33m\u001b[0m\u001b[0m\n\u001b[0m\u001b[0;32m   8755\u001b[0m \u001b[1;33m\u001b[0m\u001b[0m\n\u001b[0;32m   8756\u001b[0m \u001b[1;33m@\u001b[0m\u001b[0mgptooldoc\u001b[0m\u001b[1;33m(\u001b[0m\u001b[1;34m'SelectLayerByLocation_management'\u001b[0m\u001b[1;33m,\u001b[0m \u001b[1;32mNone\u001b[0m\u001b[1;33m)\u001b[0m\u001b[1;33m\u001b[0m\u001b[1;33m\u001b[0m\u001b[0m\n",
      "\u001b[1;32mC:\\Program Files\\ArcGIS\\Pro\\Resources\\ArcPy\\arcpy\\management.py\u001b[0m in \u001b[0;36mSelectLayerByAttribute\u001b[1;34m(in_layer_or_view, selection_type, where_clause, invert_where_clause)\u001b[0m\n\u001b[0;32m   8749\u001b[0m     \u001b[1;32mfrom\u001b[0m \u001b[0marcpy\u001b[0m\u001b[1;33m.\u001b[0m\u001b[0marcobjects\u001b[0m\u001b[1;33m.\u001b[0m\u001b[0marcobjectconversion\u001b[0m \u001b[1;32mimport\u001b[0m \u001b[0mconvertArcObjectToPythonObject\u001b[0m\u001b[1;33m\u001b[0m\u001b[1;33m\u001b[0m\u001b[0m\n\u001b[0;32m   8750\u001b[0m     \u001b[1;32mtry\u001b[0m\u001b[1;33m:\u001b[0m\u001b[1;33m\u001b[0m\u001b[1;33m\u001b[0m\u001b[0m\n\u001b[1;32m-> 8751\u001b[1;33m         \u001b[0mretval\u001b[0m \u001b[1;33m=\u001b[0m \u001b[0mconvertArcObjectToPythonObject\u001b[0m\u001b[1;33m(\u001b[0m\u001b[0mgp\u001b[0m\u001b[1;33m.\u001b[0m\u001b[0mSelectLayerByAttribute_management\u001b[0m\u001b[1;33m(\u001b[0m\u001b[1;33m*\u001b[0m\u001b[0mgp_fixargs\u001b[0m\u001b[1;33m(\u001b[0m\u001b[1;33m(\u001b[0m\u001b[0min_layer_or_view\u001b[0m\u001b[1;33m,\u001b[0m \u001b[0mselection_type\u001b[0m\u001b[1;33m,\u001b[0m \u001b[0mwhere_clause\u001b[0m\u001b[1;33m,\u001b[0m \u001b[0minvert_where_clause\u001b[0m\u001b[1;33m)\u001b[0m\u001b[1;33m,\u001b[0m \u001b[1;32mTrue\u001b[0m\u001b[1;33m)\u001b[0m\u001b[1;33m)\u001b[0m\u001b[1;33m)\u001b[0m\u001b[1;33m\u001b[0m\u001b[1;33m\u001b[0m\u001b[0m\n\u001b[0m\u001b[0;32m   8752\u001b[0m         \u001b[1;32mreturn\u001b[0m \u001b[0mretval\u001b[0m\u001b[1;33m\u001b[0m\u001b[1;33m\u001b[0m\u001b[0m\n\u001b[0;32m   8753\u001b[0m     \u001b[1;32mexcept\u001b[0m \u001b[0mException\u001b[0m \u001b[1;32mas\u001b[0m \u001b[0me\u001b[0m\u001b[1;33m:\u001b[0m\u001b[1;33m\u001b[0m\u001b[1;33m\u001b[0m\u001b[0m\n",
      "\u001b[1;32mC:\\Program Files\\ArcGIS\\Pro\\Resources\\ArcPy\\arcpy\\geoprocessing\\_base.py\u001b[0m in \u001b[0;36m<lambda>\u001b[1;34m(*args)\u001b[0m\n\u001b[0;32m    509\u001b[0m         \u001b[0mval\u001b[0m \u001b[1;33m=\u001b[0m \u001b[0mgetattr\u001b[0m\u001b[1;33m(\u001b[0m\u001b[0mself\u001b[0m\u001b[1;33m.\u001b[0m\u001b[0m_gp\u001b[0m\u001b[1;33m,\u001b[0m \u001b[0mattr\u001b[0m\u001b[1;33m)\u001b[0m\u001b[1;33m\u001b[0m\u001b[1;33m\u001b[0m\u001b[0m\n\u001b[0;32m    510\u001b[0m         \u001b[1;32mif\u001b[0m \u001b[0mcallable\u001b[0m\u001b[1;33m(\u001b[0m\u001b[0mval\u001b[0m\u001b[1;33m)\u001b[0m\u001b[1;33m:\u001b[0m\u001b[1;33m\u001b[0m\u001b[1;33m\u001b[0m\u001b[0m\n\u001b[1;32m--> 511\u001b[1;33m             \u001b[1;32mreturn\u001b[0m \u001b[1;32mlambda\u001b[0m \u001b[1;33m*\u001b[0m\u001b[0margs\u001b[0m\u001b[1;33m:\u001b[0m \u001b[0mval\u001b[0m\u001b[1;33m(\u001b[0m\u001b[1;33m*\u001b[0m\u001b[0mgp_fixargs\u001b[0m\u001b[1;33m(\u001b[0m\u001b[0margs\u001b[0m\u001b[1;33m,\u001b[0m \u001b[1;32mTrue\u001b[0m\u001b[1;33m)\u001b[0m\u001b[1;33m)\u001b[0m\u001b[1;33m\u001b[0m\u001b[1;33m\u001b[0m\u001b[0m\n\u001b[0m\u001b[0;32m    512\u001b[0m         \u001b[1;32melse\u001b[0m\u001b[1;33m:\u001b[0m\u001b[1;33m\u001b[0m\u001b[1;33m\u001b[0m\u001b[0m\n\u001b[0;32m    513\u001b[0m             \u001b[1;32mreturn\u001b[0m \u001b[0mconvertArcObjectToPythonObject\u001b[0m\u001b[1;33m(\u001b[0m\u001b[0mval\u001b[0m\u001b[1;33m)\u001b[0m\u001b[1;33m\u001b[0m\u001b[1;33m\u001b[0m\u001b[0m\n",
      "\u001b[1;31mExecuteError\u001b[0m: ERROR 000339: Input CONCAT_TRACKLOG_2021_11_03_V2 does not have OIDs\nFailed to execute (SelectLayerByAttribute).\n"
     ]
    }
   ],
   "source": [
    "selectRelatedRecords(path_to_washshp,\n",
    "                     'CONCAT_TRACKLOG_2021_11_03.csv',\n",
    "                     \"CALLSIGN\",\n",
    "                     \"radiocallsgn\")"
   ]
  },
  {
   "cell_type": "code",
   "execution_count": null,
   "metadata": {},
   "outputs": [],
   "source": []
  },
  {
   "cell_type": "code",
   "execution_count": null,
   "metadata": {},
   "outputs": [],
   "source": []
  },
  {
   "cell_type": "code",
   "execution_count": null,
   "metadata": {},
   "outputs": [],
   "source": [
    "signs = r'path_to_signs_fc'\n",
    "relTable = r'path_to_related_table'\n",
    "d = {row[0]:row[1] for row in arcpy.da.SearchCursor(signs, ['code','sign'])}\n",
    "with arcpy.da.SearchCursor(relTable, ['code','signs']) as cursor:\n",
    "    for row in cursor:\n",
    "        if row[0] in d:\n",
    "            print d, row[0] #you can print, dump data into another container, etc... del cursor*"
   ]
  }
 ],
 "metadata": {
  "kernelspec": {
   "display_name": "Python 3",
   "language": "python",
   "name": "python3"
  },
  "language_info": {
   "codemirror_mode": {
    "name": "ipython",
    "version": 3
   },
   "file_extension": ".py",
   "mimetype": "text/x-python",
   "name": "python",
   "nbconvert_exporter": "python",
   "pygments_lexer": "ipython3",
   "version": "3.6.10"
  }
 },
 "nbformat": 4,
 "nbformat_minor": 4
}
