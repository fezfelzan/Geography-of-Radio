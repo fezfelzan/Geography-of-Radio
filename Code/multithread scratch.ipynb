{
 "cells": [
  {
   "cell_type": "code",
   "execution_count": 8,
   "metadata": {},
   "outputs": [],
   "source": [
    "import json\n",
    "import io\n",
    "from io import BytesIO\n",
    "import os\n",
    "import csv\n",
    "from csv import reader\n",
    "import requests\n",
    "import pycurl\n",
    "import certifi\n",
    "import time\n",
    "import datetime\n",
    "from acrcloud.recognizer import ACRCloudRecognizer\n",
    "from acrcloud.recognizer import ACRCloudRecognizeType\n",
    "\n",
    "import pydub\n",
    "from pydub.playback import play\n",
    "from pydub import AudioSegment\n",
    "import ffmpeg\n",
    "\n",
    "from functools import partial\n",
    "from itertools import repeat\n",
    "import multiprocessing\n",
    "from multiprocessing import Pool, freeze_support"
   ]
  },
  {
   "cell_type": "code",
   "execution_count": 2,
   "metadata": {},
   "outputs": [],
   "source": [
    "workindir = r'/Users/michaelfelzan/Desktop/GEO FM'\n",
    "\n",
    "\n",
    "acrcloud_accesskey = '4554490a1c83c19ea6745ed6bfbbea7d'\n",
    "acrcloud_secretkey = 'HcoVKztgUltoNAwlPxpWoIJzt86HoKk9KTiByPTl'\n",
    "\n",
    "acrcloud_config = {\n",
    "    'host':'identify-eu-west-1.acrcloud.com',\n",
    "    'access_key': acrcloud_accesskey,\n",
    "    'access_secret': acrcloud_secretkey,\n",
    "    'recognize_type': ACRCloudRecognizeType.ACR_OPT_REC_AUDIO, # could be 'humming audio' as well\n",
    "    'debug':False,\n",
    "    'timeout':5 # seconds\n",
    "}\n",
    "\n",
    "ACR_recognizer = ACRCloudRecognizer(acrcloud_config)"
   ]
  },
  {
   "cell_type": "code",
   "execution_count": 3,
   "metadata": {},
   "outputs": [],
   "source": [
    "def RouteToACRCloud(mp3):\n",
    "    \"\"\"Function that routes an mp3 file (path) to the\n",
    "    ACRCloud API, in order to return the song name info.\n",
    "    \n",
    "    Parameters\n",
    "    ------------\n",
    "    mp3 : str\n",
    "        Name of mp3 file (path)\n",
    "        \"\"\"\n",
    "    buf = open(mp3,'rb').read()\n",
    "    # start second will be 0; will record sampled mp3 for 10 seconds\n",
    "    songread_output = ACR_recognizer.recognize_by_filebuffer(buf, 0)\n",
    "    return songread_output"
   ]
  },
  {
   "cell_type": "code",
   "execution_count": 4,
   "metadata": {},
   "outputs": [],
   "source": [
    "client_key = 'gQylLmyvGPfyGEvmFyRx'\n",
    "client_secret = 'KJnItkPttweOtFSkqwAiTTCWJsOnIobH'"
   ]
  },
  {
   "cell_type": "code",
   "execution_count": null,
   "metadata": {},
   "outputs": [],
   "source": []
  },
  {
   "cell_type": "code",
   "execution_count": 5,
   "metadata": {},
   "outputs": [],
   "source": [
    "def RadioMP3Recorder(outpath_name, instreamurl):\n",
    "    \n",
    "    audio_input = ffmpeg.input(instreamurl)\n",
    "    audio_output = ffmpeg.output(audio_input,\n",
    "                                 outpath_name,\n",
    "                                 **{'b:a': '128k'},\n",
    "                                 ss=10,\n",
    "                                 t=10)\n",
    "    audio_output.run()"
   ]
  },
  {
   "cell_type": "code",
   "execution_count": 6,
   "metadata": {},
   "outputs": [],
   "source": [
    "def RollRadio(url, name):\n",
    "    timerightnow = datetime.datetime.now()\n",
    "    formattedtime = timerightnow.strftime(\"%Y_%m_%d_T%H_%M_%S\")\n",
    "    \n",
    "    input_stream = url\n",
    "    input_mp3name = f'{name}'+f'{formattedtime}'+'.mp3'\n",
    "    itersongpath = os.path.join(r'/Users/michaelfelzan/Desktop/GEO FM',\n",
    "                                input_mp3name)\n",
    "    print(f'~~Now recording... {input_stream}~~')\n",
    "    RadioMP3Recorder(itersongpath,\n",
    "                    input_stream)\n",
    "    acrcloud_output = RouteToACRCloud(itersongpath)\n",
    "    songread_dict = json.loads(acrcloud_output)\n",
    "    \n",
    "    ACR_return = 'pepe'\n",
    "    \n",
    "    if songread_dict['status']['msg'] == 'No result':\n",
    "        ACR_return = f'No ACR return from {input_mp3name}'\n",
    "        #pass\n",
    "    elif songread_dict['status']['msg'] == 'May Be Mute':\n",
    "        ACR_return = f'No ACR return from {input_mp3name}'\n",
    "        #pass\n",
    "    elif songread_dict['status']['msg'] == 'Decode Audio Error':\n",
    "        ACR_return = f'No ACR return from {input_mp3name}'\n",
    "        #pass\n",
    "    else:\n",
    "        songtitle = songread_dict['metadata']['music'][0]['title']\n",
    "        songartist = songread_dict['metadata']['music'][0]['artists'][0]['name']\n",
    "        songalbum = songread_dict['metadata']['music'][0]['album']['name']\n",
    "        \n",
    "        ACR_return = f'{input_mp3name} ~ song : {songtitle} by {songartist} from album {songalbum}'\n",
    "    \n",
    "    \n",
    "    \n",
    "        percent20song = songtitle+'%20'+songartist+'%20'+songalbum\n",
    "        discogs_input = percent20song.replace(\" \", \"%20\")\n",
    "        discogs_req = ('https://api.discogs.com/database/search?q=' + \n",
    "                       discogs_input + \n",
    "                       '&key=' + \n",
    "                       client_key + \n",
    "                       '&secret=' +\n",
    "                       client_secret)\n",
    "        discogs_req_obj = requests.get(discogs_req)\n",
    "        discogs_songinfo_dict = json.loads(discogs_req_obj.content.decode('utf-8'))\n",
    "        \n",
    "        if discogs_songinfo_dict['results'] == []:\n",
    "            Discogs_return = f'No Discogs return from {input_mp3name}'\n",
    "            #pass\n",
    "        else:\n",
    "            style_list = discogs_songinfo_dict['results'][0]['style']\n",
    "            genre_list = discogs_songinfo_dict['results'][0]['genre']\n",
    "            styleliststring = ','.join(style_list)\n",
    "            genreliststring = ','.join(genre_list)\n",
    "            \n",
    "            #with open(station_dict[station]['txtpath'], \"a+\") as file_object:\n",
    "                #file_object.seek(0)\n",
    "                #data = file_object.read(100)\n",
    "                #if len(data) > 0 :\n",
    "                    #file_object.write(\"\\n\")\n",
    "                #file_object.write((input_mp3name+\n",
    "                                   #','+\n",
    "                                   #'song='+songtitle+','+\n",
    "                                   #'artist='+songartist+','+\n",
    "                                   #'album='+songalbum+','+\n",
    "                                   ####'genres='+genreliststring+','+\n",
    "                                   #'styles='+styleliststring))\n",
    "            Discogs_return = f'Discogs returned the genre(s): {styleliststring}'\n",
    "                \n",
    "            return( [ACR_return,Discogs_return] )"
   ]
  },
  {
   "cell_type": "code",
   "execution_count": 21,
   "metadata": {},
   "outputs": [
    {
     "ename": "KeyError",
     "evalue": "'KEXP'",
     "output_type": "error",
     "traceback": [
      "\u001b[0;31m---------------------------------------------------------------------------\u001b[0m",
      "\u001b[0;31mKeyError\u001b[0m                                  Traceback (most recent call last)",
      "\u001b[0;32m<ipython-input-21-ad85e4075628>\u001b[0m in \u001b[0;36m<module>\u001b[0;34m\u001b[0m\n\u001b[0;32m----> 1\u001b[0;31m \u001b[0mglobals\u001b[0m\u001b[0;34m(\u001b[0m\u001b[0;34m)\u001b[0m\u001b[0;34m[\u001b[0m\u001b[0;34m'KEXP'\u001b[0m\u001b[0;34m]\u001b[0m\u001b[0;34m\u001b[0m\u001b[0;34m\u001b[0m\u001b[0m\n\u001b[0m",
      "\u001b[0;31mKeyError\u001b[0m: 'KEXP'"
     ]
    }
   ],
   "source": [
    "globals()['KEXP']"
   ]
  },
  {
   "cell_type": "code",
   "execution_count": 22,
   "metadata": {},
   "outputs": [
    {
     "ename": "NameError",
     "evalue": "name 'KEXP' is not defined",
     "output_type": "error",
     "traceback": [
      "\u001b[0;31m---------------------------------------------------------------------------\u001b[0m",
      "\u001b[0;31mNameError\u001b[0m                                 Traceback (most recent call last)",
      "\u001b[0;32m<ipython-input-22-7cf2a9a2f666>\u001b[0m in \u001b[0;36m<module>\u001b[0;34m\u001b[0m\n\u001b[0;32m----> 1\u001b[0;31m \u001b[0mKEXP\u001b[0m\u001b[0;34m\u001b[0m\u001b[0;34m\u001b[0m\u001b[0m\n\u001b[0m",
      "\u001b[0;31mNameError\u001b[0m: name 'KEXP' is not defined"
     ]
    }
   ],
   "source": [
    "KEXP"
   ]
  },
  {
   "cell_type": "code",
   "execution_count": 20,
   "metadata": {},
   "outputs": [
    {
     "name": "stdout",
     "output_type": "stream",
     "text": [
      "~~Now recording... https://stream.wmnf.org:4443/wmnf_hd2~~\n",
      "~~Now recording... https://stream.wmnf.org:4443/wmnf_hd4~~\n",
      "~~Now recording... https://17553.live.streamtheworld.com/WPBBFMAACHI.aac~~\n"
     ]
    },
    {
     "name": "stderr",
     "output_type": "stream",
     "text": [
      "Exception in thread Thread-18:\n",
      "Traceback (most recent call last):\n",
      "  File \"/opt/anaconda3/lib/python3.7/threading.py\", line 926, in _bootstrap_inner\n",
      "    self.run()\n",
      "  File \"/opt/anaconda3/lib/python3.7/threading.py\", line 870, in run\n",
      "    self._target(*self._args, **self._kwargs)\n",
      "  File \"/opt/anaconda3/lib/python3.7/multiprocessing/pool.py\", line 470, in _handle_results\n",
      "    task = get()\n",
      "  File \"/opt/anaconda3/lib/python3.7/multiprocessing/connection.py\", line 251, in recv\n",
      "    return _ForkingPickler.loads(buf.getbuffer())\n",
      "TypeError: __init__() missing 2 required positional arguments: 'stdout' and 'stderr'\n",
      "\n",
      "Process ForkPoolWorker-26:\n",
      "Process ForkPoolWorker-25:\n",
      "Process ForkPoolWorker-30:\n",
      "Process ForkPoolWorker-28:\n",
      "Process ForkPoolWorker-29:\n",
      "Traceback (most recent call last):\n",
      "Traceback (most recent call last):\n",
      "Traceback (most recent call last):\n",
      "Traceback (most recent call last):\n",
      "  File \"/opt/anaconda3/lib/python3.7/multiprocessing/process.py\", line 297, in _bootstrap\n",
      "    self.run()\n",
      "Traceback (most recent call last):\n",
      "  File \"/opt/anaconda3/lib/python3.7/multiprocessing/process.py\", line 297, in _bootstrap\n",
      "    self.run()\n",
      "  File \"/opt/anaconda3/lib/python3.7/multiprocessing/process.py\", line 297, in _bootstrap\n",
      "    self.run()\n",
      "  File \"/opt/anaconda3/lib/python3.7/multiprocessing/process.py\", line 297, in _bootstrap\n",
      "    self.run()\n",
      "  File \"/opt/anaconda3/lib/python3.7/multiprocessing/process.py\", line 99, in run\n",
      "    self._target(*self._args, **self._kwargs)\n",
      "  File \"/opt/anaconda3/lib/python3.7/multiprocessing/process.py\", line 297, in _bootstrap\n",
      "    self.run()\n",
      "  File \"/opt/anaconda3/lib/python3.7/multiprocessing/process.py\", line 99, in run\n",
      "    self._target(*self._args, **self._kwargs)\n",
      "  File \"/opt/anaconda3/lib/python3.7/multiprocessing/process.py\", line 99, in run\n",
      "    self._target(*self._args, **self._kwargs)\n",
      "  File \"/opt/anaconda3/lib/python3.7/multiprocessing/pool.py\", line 110, in worker\n",
      "    task = get()\n",
      "  File \"/opt/anaconda3/lib/python3.7/multiprocessing/pool.py\", line 110, in worker\n",
      "    task = get()\n",
      "  File \"/opt/anaconda3/lib/python3.7/multiprocessing/process.py\", line 99, in run\n",
      "    self._target(*self._args, **self._kwargs)\n",
      "  File \"/opt/anaconda3/lib/python3.7/multiprocessing/process.py\", line 99, in run\n",
      "    self._target(*self._args, **self._kwargs)\n",
      "  File \"/opt/anaconda3/lib/python3.7/multiprocessing/pool.py\", line 110, in worker\n",
      "    task = get()\n",
      "  File \"/opt/anaconda3/lib/python3.7/multiprocessing/queues.py\", line 351, in get\n",
      "    with self._rlock:\n",
      "  File \"/opt/anaconda3/lib/python3.7/multiprocessing/queues.py\", line 351, in get\n",
      "    with self._rlock:\n",
      "  File \"/opt/anaconda3/lib/python3.7/multiprocessing/pool.py\", line 110, in worker\n",
      "    task = get()\n",
      "  File \"/opt/anaconda3/lib/python3.7/multiprocessing/queues.py\", line 351, in get\n",
      "    with self._rlock:\n",
      "  File \"/opt/anaconda3/lib/python3.7/multiprocessing/synchronize.py\", line 95, in __enter__\n",
      "    return self._semlock.__enter__()\n",
      "  File \"/opt/anaconda3/lib/python3.7/multiprocessing/pool.py\", line 110, in worker\n",
      "    task = get()\n",
      "  File \"/opt/anaconda3/lib/python3.7/multiprocessing/synchronize.py\", line 95, in __enter__\n",
      "    return self._semlock.__enter__()\n",
      "  File \"/opt/anaconda3/lib/python3.7/multiprocessing/synchronize.py\", line 95, in __enter__\n",
      "    return self._semlock.__enter__()\n",
      "KeyboardInterrupt\n",
      "  File \"/opt/anaconda3/lib/python3.7/multiprocessing/queues.py\", line 351, in get\n",
      "    with self._rlock:\n",
      "  File \"/opt/anaconda3/lib/python3.7/multiprocessing/queues.py\", line 352, in get\n",
      "    res = self._reader.recv_bytes()\n",
      "KeyboardInterrupt\n",
      "KeyboardInterrupt\n",
      "  File \"/opt/anaconda3/lib/python3.7/multiprocessing/synchronize.py\", line 95, in __enter__\n",
      "    return self._semlock.__enter__()\n",
      "  File \"/opt/anaconda3/lib/python3.7/multiprocessing/connection.py\", line 216, in recv_bytes\n",
      "    buf = self._recv_bytes(maxlength)\n",
      "KeyboardInterrupt\n",
      "  File \"/opt/anaconda3/lib/python3.7/multiprocessing/connection.py\", line 407, in _recv_bytes\n",
      "    buf = self._recv(4)\n",
      "  File \"/opt/anaconda3/lib/python3.7/multiprocessing/connection.py\", line 379, in _recv\n",
      "    chunk = read(handle, remaining)\n",
      "KeyboardInterrupt\n"
     ]
    },
    {
     "ename": "AssertionError",
     "evalue": "Cannot have cache with result_hander not alive",
     "output_type": "error",
     "traceback": [
      "\u001b[0;31m---------------------------------------------------------------------------\u001b[0m",
      "\u001b[0;31mKeyboardInterrupt\u001b[0m                         Traceback (most recent call last)",
      "\u001b[0;32m<ipython-input-20-3341f214da71>\u001b[0m in \u001b[0;36m<module>\u001b[0;34m\u001b[0m\n\u001b[1;32m      8\u001b[0m                               \u001b[0;34m(\u001b[0m\u001b[0;34mr'https://stream.wmnf.org:4443/wmnf_hd4'\u001b[0m\u001b[0;34m,\u001b[0m\u001b[0;34m'tbubi'\u001b[0m\u001b[0;34m)\u001b[0m\u001b[0;34m,\u001b[0m\u001b[0;34m\u001b[0m\u001b[0;34m\u001b[0m\u001b[0m\n\u001b[0;32m----> 9\u001b[0;31m                               (r'https://17553.live.streamtheworld.com/WPBBFMAACHI.aac','tibz')])\n\u001b[0m",
      "\u001b[0;32m/opt/anaconda3/lib/python3.7/multiprocessing/pool.py\u001b[0m in \u001b[0;36mstarmap\u001b[0;34m(self, func, iterable, chunksize)\u001b[0m\n\u001b[1;32m    275\u001b[0m         '''\n\u001b[0;32m--> 276\u001b[0;31m         \u001b[0;32mreturn\u001b[0m \u001b[0mself\u001b[0m\u001b[0;34m.\u001b[0m\u001b[0m_map_async\u001b[0m\u001b[0;34m(\u001b[0m\u001b[0mfunc\u001b[0m\u001b[0;34m,\u001b[0m \u001b[0miterable\u001b[0m\u001b[0;34m,\u001b[0m \u001b[0mstarmapstar\u001b[0m\u001b[0;34m,\u001b[0m \u001b[0mchunksize\u001b[0m\u001b[0;34m)\u001b[0m\u001b[0;34m.\u001b[0m\u001b[0mget\u001b[0m\u001b[0;34m(\u001b[0m\u001b[0;34m)\u001b[0m\u001b[0;34m\u001b[0m\u001b[0;34m\u001b[0m\u001b[0m\n\u001b[0m\u001b[1;32m    277\u001b[0m \u001b[0;34m\u001b[0m\u001b[0m\n",
      "\u001b[0;32m/opt/anaconda3/lib/python3.7/multiprocessing/pool.py\u001b[0m in \u001b[0;36mget\u001b[0;34m(self, timeout)\u001b[0m\n\u001b[1;32m    650\u001b[0m     \u001b[0;32mdef\u001b[0m \u001b[0mget\u001b[0m\u001b[0;34m(\u001b[0m\u001b[0mself\u001b[0m\u001b[0;34m,\u001b[0m \u001b[0mtimeout\u001b[0m\u001b[0;34m=\u001b[0m\u001b[0;32mNone\u001b[0m\u001b[0;34m)\u001b[0m\u001b[0;34m:\u001b[0m\u001b[0;34m\u001b[0m\u001b[0;34m\u001b[0m\u001b[0m\n\u001b[0;32m--> 651\u001b[0;31m         \u001b[0mself\u001b[0m\u001b[0;34m.\u001b[0m\u001b[0mwait\u001b[0m\u001b[0;34m(\u001b[0m\u001b[0mtimeout\u001b[0m\u001b[0;34m)\u001b[0m\u001b[0;34m\u001b[0m\u001b[0;34m\u001b[0m\u001b[0m\n\u001b[0m\u001b[1;32m    652\u001b[0m         \u001b[0;32mif\u001b[0m \u001b[0;32mnot\u001b[0m \u001b[0mself\u001b[0m\u001b[0;34m.\u001b[0m\u001b[0mready\u001b[0m\u001b[0;34m(\u001b[0m\u001b[0;34m)\u001b[0m\u001b[0;34m:\u001b[0m\u001b[0;34m\u001b[0m\u001b[0;34m\u001b[0m\u001b[0m\n",
      "\u001b[0;32m/opt/anaconda3/lib/python3.7/multiprocessing/pool.py\u001b[0m in \u001b[0;36mwait\u001b[0;34m(self, timeout)\u001b[0m\n\u001b[1;32m    647\u001b[0m     \u001b[0;32mdef\u001b[0m \u001b[0mwait\u001b[0m\u001b[0;34m(\u001b[0m\u001b[0mself\u001b[0m\u001b[0;34m,\u001b[0m \u001b[0mtimeout\u001b[0m\u001b[0;34m=\u001b[0m\u001b[0;32mNone\u001b[0m\u001b[0;34m)\u001b[0m\u001b[0;34m:\u001b[0m\u001b[0;34m\u001b[0m\u001b[0;34m\u001b[0m\u001b[0m\n\u001b[0;32m--> 648\u001b[0;31m         \u001b[0mself\u001b[0m\u001b[0;34m.\u001b[0m\u001b[0m_event\u001b[0m\u001b[0;34m.\u001b[0m\u001b[0mwait\u001b[0m\u001b[0;34m(\u001b[0m\u001b[0mtimeout\u001b[0m\u001b[0;34m)\u001b[0m\u001b[0;34m\u001b[0m\u001b[0;34m\u001b[0m\u001b[0m\n\u001b[0m\u001b[1;32m    649\u001b[0m \u001b[0;34m\u001b[0m\u001b[0m\n",
      "\u001b[0;32m/opt/anaconda3/lib/python3.7/threading.py\u001b[0m in \u001b[0;36mwait\u001b[0;34m(self, timeout)\u001b[0m\n\u001b[1;32m    551\u001b[0m             \u001b[0;32mif\u001b[0m \u001b[0;32mnot\u001b[0m \u001b[0msignaled\u001b[0m\u001b[0;34m:\u001b[0m\u001b[0;34m\u001b[0m\u001b[0;34m\u001b[0m\u001b[0m\n\u001b[0;32m--> 552\u001b[0;31m                 \u001b[0msignaled\u001b[0m \u001b[0;34m=\u001b[0m \u001b[0mself\u001b[0m\u001b[0;34m.\u001b[0m\u001b[0m_cond\u001b[0m\u001b[0;34m.\u001b[0m\u001b[0mwait\u001b[0m\u001b[0;34m(\u001b[0m\u001b[0mtimeout\u001b[0m\u001b[0;34m)\u001b[0m\u001b[0;34m\u001b[0m\u001b[0;34m\u001b[0m\u001b[0m\n\u001b[0m\u001b[1;32m    553\u001b[0m             \u001b[0;32mreturn\u001b[0m \u001b[0msignaled\u001b[0m\u001b[0;34m\u001b[0m\u001b[0;34m\u001b[0m\u001b[0m\n",
      "\u001b[0;32m/opt/anaconda3/lib/python3.7/threading.py\u001b[0m in \u001b[0;36mwait\u001b[0;34m(self, timeout)\u001b[0m\n\u001b[1;32m    295\u001b[0m             \u001b[0;32mif\u001b[0m \u001b[0mtimeout\u001b[0m \u001b[0;32mis\u001b[0m \u001b[0;32mNone\u001b[0m\u001b[0;34m:\u001b[0m\u001b[0;34m\u001b[0m\u001b[0;34m\u001b[0m\u001b[0m\n\u001b[0;32m--> 296\u001b[0;31m                 \u001b[0mwaiter\u001b[0m\u001b[0;34m.\u001b[0m\u001b[0macquire\u001b[0m\u001b[0;34m(\u001b[0m\u001b[0;34m)\u001b[0m\u001b[0;34m\u001b[0m\u001b[0;34m\u001b[0m\u001b[0m\n\u001b[0m\u001b[1;32m    297\u001b[0m                 \u001b[0mgotit\u001b[0m \u001b[0;34m=\u001b[0m \u001b[0;32mTrue\u001b[0m\u001b[0;34m\u001b[0m\u001b[0;34m\u001b[0m\u001b[0m\n",
      "\u001b[0;31mKeyboardInterrupt\u001b[0m: ",
      "\nDuring handling of the above exception, another exception occurred:\n",
      "\u001b[0;31mAssertionError\u001b[0m                            Traceback (most recent call last)",
      "\u001b[0;32m<ipython-input-20-3341f214da71>\u001b[0m in \u001b[0;36m<module>\u001b[0;34m\u001b[0m\n\u001b[1;32m      7\u001b[0m         p.starmap(RollRadio, [(r'https://stream.wmnf.org:4443/wmnf_hd2','tbaby'),\n\u001b[1;32m      8\u001b[0m                               \u001b[0;34m(\u001b[0m\u001b[0;34mr'https://stream.wmnf.org:4443/wmnf_hd4'\u001b[0m\u001b[0;34m,\u001b[0m\u001b[0;34m'tbubi'\u001b[0m\u001b[0;34m)\u001b[0m\u001b[0;34m,\u001b[0m\u001b[0;34m\u001b[0m\u001b[0;34m\u001b[0m\u001b[0m\n\u001b[0;32m----> 9\u001b[0;31m                               (r'https://17553.live.streamtheworld.com/WPBBFMAACHI.aac','tibz')])\n\u001b[0m",
      "\u001b[0;32m/opt/anaconda3/lib/python3.7/multiprocessing/pool.py\u001b[0m in \u001b[0;36m__exit__\u001b[0;34m(self, exc_type, exc_val, exc_tb)\u001b[0m\n\u001b[1;32m    621\u001b[0m \u001b[0;34m\u001b[0m\u001b[0m\n\u001b[1;32m    622\u001b[0m     \u001b[0;32mdef\u001b[0m \u001b[0m__exit__\u001b[0m\u001b[0;34m(\u001b[0m\u001b[0mself\u001b[0m\u001b[0;34m,\u001b[0m \u001b[0mexc_type\u001b[0m\u001b[0;34m,\u001b[0m \u001b[0mexc_val\u001b[0m\u001b[0;34m,\u001b[0m \u001b[0mexc_tb\u001b[0m\u001b[0;34m)\u001b[0m\u001b[0;34m:\u001b[0m\u001b[0;34m\u001b[0m\u001b[0;34m\u001b[0m\u001b[0m\n\u001b[0;32m--> 623\u001b[0;31m         \u001b[0mself\u001b[0m\u001b[0;34m.\u001b[0m\u001b[0mterminate\u001b[0m\u001b[0;34m(\u001b[0m\u001b[0;34m)\u001b[0m\u001b[0;34m\u001b[0m\u001b[0;34m\u001b[0m\u001b[0m\n\u001b[0m\u001b[1;32m    624\u001b[0m \u001b[0;34m\u001b[0m\u001b[0m\n\u001b[1;32m    625\u001b[0m \u001b[0;31m#\u001b[0m\u001b[0;34m\u001b[0m\u001b[0;34m\u001b[0m\u001b[0;34m\u001b[0m\u001b[0m\n",
      "\u001b[0;32m/opt/anaconda3/lib/python3.7/multiprocessing/pool.py\u001b[0m in \u001b[0;36mterminate\u001b[0;34m(self)\u001b[0m\n\u001b[1;32m    546\u001b[0m         \u001b[0mself\u001b[0m\u001b[0;34m.\u001b[0m\u001b[0m_state\u001b[0m \u001b[0;34m=\u001b[0m \u001b[0mTERMINATE\u001b[0m\u001b[0;34m\u001b[0m\u001b[0;34m\u001b[0m\u001b[0m\n\u001b[1;32m    547\u001b[0m         \u001b[0mself\u001b[0m\u001b[0;34m.\u001b[0m\u001b[0m_worker_handler\u001b[0m\u001b[0;34m.\u001b[0m\u001b[0m_state\u001b[0m \u001b[0;34m=\u001b[0m \u001b[0mTERMINATE\u001b[0m\u001b[0;34m\u001b[0m\u001b[0;34m\u001b[0m\u001b[0m\n\u001b[0;32m--> 548\u001b[0;31m         \u001b[0mself\u001b[0m\u001b[0;34m.\u001b[0m\u001b[0m_terminate\u001b[0m\u001b[0;34m(\u001b[0m\u001b[0;34m)\u001b[0m\u001b[0;34m\u001b[0m\u001b[0;34m\u001b[0m\u001b[0m\n\u001b[0m\u001b[1;32m    549\u001b[0m \u001b[0;34m\u001b[0m\u001b[0m\n\u001b[1;32m    550\u001b[0m     \u001b[0;32mdef\u001b[0m \u001b[0mjoin\u001b[0m\u001b[0;34m(\u001b[0m\u001b[0mself\u001b[0m\u001b[0;34m)\u001b[0m\u001b[0;34m:\u001b[0m\u001b[0;34m\u001b[0m\u001b[0;34m\u001b[0m\u001b[0m\n",
      "\u001b[0;32m/opt/anaconda3/lib/python3.7/multiprocessing/util.py\u001b[0m in \u001b[0;36m__call__\u001b[0;34m(self, wr, _finalizer_registry, sub_debug, getpid)\u001b[0m\n\u001b[1;32m    187\u001b[0m                 sub_debug('finalizer calling %s with args %s and kwargs %s',\n\u001b[1;32m    188\u001b[0m                           self._callback, self._args, self._kwargs)\n\u001b[0;32m--> 189\u001b[0;31m                 \u001b[0mres\u001b[0m \u001b[0;34m=\u001b[0m \u001b[0mself\u001b[0m\u001b[0;34m.\u001b[0m\u001b[0m_callback\u001b[0m\u001b[0;34m(\u001b[0m\u001b[0;34m*\u001b[0m\u001b[0mself\u001b[0m\u001b[0;34m.\u001b[0m\u001b[0m_args\u001b[0m\u001b[0;34m,\u001b[0m \u001b[0;34m**\u001b[0m\u001b[0mself\u001b[0m\u001b[0;34m.\u001b[0m\u001b[0m_kwargs\u001b[0m\u001b[0;34m)\u001b[0m\u001b[0;34m\u001b[0m\u001b[0;34m\u001b[0m\u001b[0m\n\u001b[0m\u001b[1;32m    190\u001b[0m             \u001b[0mself\u001b[0m\u001b[0;34m.\u001b[0m\u001b[0m_weakref\u001b[0m \u001b[0;34m=\u001b[0m \u001b[0mself\u001b[0m\u001b[0;34m.\u001b[0m\u001b[0m_callback\u001b[0m \u001b[0;34m=\u001b[0m \u001b[0mself\u001b[0m\u001b[0;34m.\u001b[0m\u001b[0m_args\u001b[0m \u001b[0;34m=\u001b[0m\u001b[0;31m \u001b[0m\u001b[0;31m\\\u001b[0m\u001b[0;34m\u001b[0m\u001b[0;34m\u001b[0m\u001b[0m\n\u001b[1;32m    191\u001b[0m                             \u001b[0mself\u001b[0m\u001b[0;34m.\u001b[0m\u001b[0m_kwargs\u001b[0m \u001b[0;34m=\u001b[0m \u001b[0mself\u001b[0m\u001b[0;34m.\u001b[0m\u001b[0m_key\u001b[0m \u001b[0;34m=\u001b[0m \u001b[0;32mNone\u001b[0m\u001b[0;34m\u001b[0m\u001b[0;34m\u001b[0m\u001b[0m\n",
      "\u001b[0;32m/opt/anaconda3/lib/python3.7/multiprocessing/pool.py\u001b[0m in \u001b[0;36m_terminate_pool\u001b[0;34m(cls, taskqueue, inqueue, outqueue, pool, worker_handler, task_handler, result_handler, cache)\u001b[0m\n\u001b[1;32m    583\u001b[0m         \u001b[0;32mif\u001b[0m \u001b[0;34m(\u001b[0m\u001b[0;32mnot\u001b[0m \u001b[0mresult_handler\u001b[0m\u001b[0;34m.\u001b[0m\u001b[0mis_alive\u001b[0m\u001b[0;34m(\u001b[0m\u001b[0;34m)\u001b[0m\u001b[0;34m)\u001b[0m \u001b[0;32mand\u001b[0m \u001b[0;34m(\u001b[0m\u001b[0mlen\u001b[0m\u001b[0;34m(\u001b[0m\u001b[0mcache\u001b[0m\u001b[0;34m)\u001b[0m \u001b[0;34m!=\u001b[0m \u001b[0;36m0\u001b[0m\u001b[0;34m)\u001b[0m\u001b[0;34m:\u001b[0m\u001b[0;34m\u001b[0m\u001b[0;34m\u001b[0m\u001b[0m\n\u001b[1;32m    584\u001b[0m             raise AssertionError(\n\u001b[0;32m--> 585\u001b[0;31m                 \"Cannot have cache with result_hander not alive\")\n\u001b[0m\u001b[1;32m    586\u001b[0m \u001b[0;34m\u001b[0m\u001b[0m\n\u001b[1;32m    587\u001b[0m         \u001b[0mresult_handler\u001b[0m\u001b[0;34m.\u001b[0m\u001b[0m_state\u001b[0m \u001b[0;34m=\u001b[0m \u001b[0mTERMINATE\u001b[0m\u001b[0;34m\u001b[0m\u001b[0;34m\u001b[0m\u001b[0m\n",
      "\u001b[0;31mAssertionError\u001b[0m: Cannot have cache with result_hander not alive"
     ]
    },
    {
     "name": "stderr",
     "output_type": "stream",
     "text": [
      "Process ForkPoolWorker-27:\n",
      "Traceback (most recent call last):\n",
      "  File \"/opt/anaconda3/lib/python3.7/multiprocessing/process.py\", line 297, in _bootstrap\n",
      "    self.run()\n",
      "  File \"/opt/anaconda3/lib/python3.7/multiprocessing/process.py\", line 99, in run\n",
      "    self._target(*self._args, **self._kwargs)\n",
      "  File \"/opt/anaconda3/lib/python3.7/multiprocessing/pool.py\", line 121, in worker\n",
      "    result = (True, func(*args, **kwds))\n",
      "  File \"/opt/anaconda3/lib/python3.7/multiprocessing/pool.py\", line 47, in starmapstar\n",
      "    return list(itertools.starmap(args[0], args[1]))\n",
      "  File \"<ipython-input-6-17e5007f503c>\", line 11, in RollRadio\n",
      "    input_stream)\n",
      "  File \"<ipython-input-5-a24a112501ef>\", line 9, in RadioMP3Recorder\n",
      "    audio_output.run()\n",
      "  File \"/opt/anaconda3/lib/python3.7/site-packages/ffmpeg/_run.py\", line 322, in run\n",
      "    out, err = process.communicate(input)\n",
      "  File \"/opt/anaconda3/lib/python3.7/subprocess.py\", line 931, in communicate\n",
      "    self.wait()\n",
      "  File \"/opt/anaconda3/lib/python3.7/subprocess.py\", line 990, in wait\n",
      "    return self._wait(timeout=timeout)\n",
      "  File \"/opt/anaconda3/lib/python3.7/subprocess.py\", line 1624, in _wait\n",
      "    (pid, sts) = self._try_wait(0)\n",
      "  File \"/opt/anaconda3/lib/python3.7/subprocess.py\", line 1582, in _try_wait\n",
      "    (pid, sts) = os.waitpid(self.pid, wait_flags)\n",
      "KeyboardInterrupt\n"
     ]
    }
   ],
   "source": [
    "array_of_stations = [('selfy',r'https://stream.wmnf.org:4443/wmnf_hd2','tbaby'),\n",
    "                     ('selfy',r'https://stream.wmnf.org:4443/wmnf_hd4','tbubi'),\n",
    "                     ('selfy',r'https://17553.live.streamtheworld.com/WPBBFMAACHI.aac','tibz')]\n",
    "if __name__ == '__main__':\n",
    "    with Pool(6) as p:\n",
    "    # number of worker processes ^\n",
    "        p.starmap(RollRadio, [(r'https://stream.wmnf.org:4443/wmnf_hd2','tbaby'),\n",
    "                              (r'https://stream.wmnf.org:4443/wmnf_hd4','tbubi'),\n",
    "                              (r'https://17553.live.streamtheworld.com/WPBBFMAACHI.aac','tibz')])"
   ]
  },
  {
   "cell_type": "code",
   "execution_count": 19,
   "metadata": {},
   "outputs": [
    {
     "name": "stderr",
     "output_type": "stream",
     "text": [
      "Hello World\n"
     ]
    }
   ],
   "source": [
    "import sys\n",
    " \n",
    " \n",
    "def print_to_stderr(*a):\n",
    " \n",
    "    # Here a is the array holding the objects\n",
    "    # passed as the argument of the function\n",
    "    print(*a, file = sys.stderr)\n",
    " \n",
    "print_to_stderr(\"Hello World\")"
   ]
  },
  {
   "cell_type": "code",
   "execution_count": 15,
   "metadata": {},
   "outputs": [],
   "source": [
    "def f(self, *args):\n",
    "    arr, arg1, arg2 = args\n",
    "    print(f\"{arr} {arg1} {arg2}\")"
   ]
  },
  {
   "cell_type": "code",
   "execution_count": 17,
   "metadata": {},
   "outputs": [
    {
     "name": "stdout",
     "output_type": "stream",
     "text": [
      "fdf sdff sdf\n"
     ]
    }
   ],
   "source": [
    "f('sdfs','fdf','sdff','sdf')"
   ]
  },
  {
   "cell_type": "code",
   "execution_count": 9,
   "metadata": {},
   "outputs": [
    {
     "data": {
      "text/plain": [
       "list"
      ]
     },
     "execution_count": 9,
     "metadata": {},
     "output_type": "execute_result"
    }
   ],
   "source": [
    "type(array_of_stations)"
   ]
  },
  {
   "cell_type": "code",
   "execution_count": 39,
   "metadata": {},
   "outputs": [
    {
     "name": "stdout",
     "output_type": "stream",
     "text": [
      "http://207.180.222.146:8000/stream\n",
      "http://41.174.189.194:88/broadwave.mp3?src=1&amp;rate=1\n",
      "http://197.221.240.226:88/broadwave.mp3?src=1&amp;kbps=80\n",
      "http://197.221.240.166:88/broadwavehigh.mp3?src=1\n",
      "http://41.220.21.66:88/broadwave.mp3\n",
      "http://41.220.21.70:88/broadwavehigh.mp3\n",
      "https://eu4.fastcast4u.com/proxy/lancguma?mp=/1\n",
      "http://41.220.21.66:88/broadwave.mp3?src=1\n",
      "http://41.220.21.70:88/broadwavelow.mp3\n",
      "https://edge.iono.fm/xice/159_medium.aac\n",
      "https://edge.iono.fm/xice/134_medium.aac\n"
     ]
    }
   ],
   "source": [
    "with open('zimbabwe sample csv.csv', newline='') as csvfile:\n",
    "    zimbreader = csv.reader(csvfile, delimiter=',')\n",
    "    zimb_list = list(zimbreader)\n",
    "    for i in range(11):\n",
    "        print(zimb_list[i][7])"
   ]
  },
  {
   "cell_type": "code",
   "execution_count": null,
   "metadata": {},
   "outputs": [],
   "source": []
  },
  {
   "cell_type": "code",
   "execution_count": null,
   "metadata": {},
   "outputs": [],
   "source": []
  },
  {
   "cell_type": "code",
   "execution_count": null,
   "metadata": {},
   "outputs": [],
   "source": [
    "def RadioTowerInfoGetter(callsign):\n",
    "    \"\"\"Function that requests the HTML of\n",
    "    the radio-locator.com webpage for whatever \n",
    "    radio station callsign is inputted into the function.\n",
    "    \n",
    "    The function parses the HTML to return a dictionary\n",
    "    containing the radio stations ERP, lat/long,\n",
    "    HAAT, HAGL, and HASL.\n",
    "    \n",
    "    Parameters\n",
    "    ------------\n",
    "    callsign : str\n",
    "        Name of station callsign (eg. KEXP)\n",
    "    \"\"\"\n",
    "    radiolocheaders = {\n",
    "        'sec-ch-ua' : '\"Google Chrome\";v=\"89\", \"Chromium\";v=\"89\", \";Not A Brand\";v=\"99\"',\n",
    "        'sec-ch-ua-mobile' : '?0',\n",
    "        'Upgrade-Insecure-Requests' : '1',\n",
    "        'User-Agent' : 'Mozilla/5.0 (Macintosh; Intel Mac OS X 10_14_6) AppleWebKit/537.36 (KHTML, like Gecko) Chrome/89.0.4389.114 Safari/537.36'\n",
    "    }\n",
    "    locatorURL = f'https://radio-locator.com/cgi-bin/finder?call={callsign}&x=0&y=0&sr=Y&s=C'\n",
    "    \n",
    "    radiolocreq = requests.get(locatorURL,\n",
    "                               headers=radiolocheaders)\n",
    "    stationHTML = radiolocreq.content.decode('utf-8')\n",
    "    stationsoup = BeautifulSoup(stationHTML)\n",
    "    techvalues = stationsoup.find_all(\"td\",\n",
    "                                      class_='tech_value')\n",
    "    \n",
    "    if techvalues == []:\n",
    "        print(f\"No radio tower info could be retrieved for station {callsign}\")\n",
    "        return False\n",
    "    else:\n",
    "        ERP = []\n",
    "        coords = []\n",
    "        heights = []\n",
    "        # Parsing the HTML:\n",
    "        for item in techvalues:\n",
    "            for characters in item:\n",
    "                for sub in characters:\n",
    "                    if '\" N' in sub:\n",
    "                        coords.append(sub)\n",
    "            if 'Watts' in characters:\n",
    "                ERP.append(characters)\n",
    "            elif 'meters' in characters:\n",
    "                heights.append(characters)\n",
    "            else:\n",
    "                pass\n",
    "    \n",
    "        itercoords = coords[0]\n",
    "        iterERP = ERP[0]\n",
    "        iterHAAT = heights[0]\n",
    "        iterHAGL = heights[1]\n",
    "        iterHASL = heights[2]\n",
    "    \n",
    "        towerinfo = {\n",
    "            'ERP' : iterERP,\n",
    "            'Coords' : itercoords,\n",
    "            'HAAT' : iterHAAT,\n",
    "            'Height Above Ground Level' : iterHAGL,\n",
    "            'Height Above Sea Level' : iterHASL\n",
    "        }\n",
    "    \n",
    "        return towerinfo"
   ]
  }
 ],
 "metadata": {
  "kernelspec": {
   "display_name": "Python 3",
   "language": "python",
   "name": "python3"
  },
  "language_info": {
   "codemirror_mode": {
    "name": "ipython",
    "version": 3
   },
   "file_extension": ".py",
   "mimetype": "text/x-python",
   "name": "python",
   "nbconvert_exporter": "python",
   "pygments_lexer": "ipython3",
   "version": "3.7.4"
  }
 },
 "nbformat": 4,
 "nbformat_minor": 2
}
